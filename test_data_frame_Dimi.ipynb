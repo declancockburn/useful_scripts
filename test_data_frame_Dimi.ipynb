{
 "cells": [
  {
   "cell_type": "code",
   "execution_count": 1,
   "metadata": {},
   "outputs": [
    {
     "name": "stdout",
     "output_type": "stream",
     "text": [
      "0   2013-11-16 02:00:00\n",
      "1   2013-11-07 10:00:00\n",
      "2   2013-11-17 22:00:00\n",
      "dtype: datetime64[ns]\n"
     ]
    }
   ],
   "source": [
    "import pandas as pd\n",
    "\n",
    "\n",
    "lzt = ['2013/11/16 02:00 ',\n",
    "       '2013/11/07 10:00 ',\n",
    "       '2013/11/17 22:00 ',\n",
    "       'DateTIme',\n",
    "       'DateTIme',\n",
    "       'DateTIme']\n",
    "ser = pd.Series(lzt)\n",
    "ser = ser[ser != 'DateTIme']\n",
    "ser = pd.to_datetime(ser)\n",
    "\n",
    "print(ser)"
   ]
  }
 ],
 "metadata": {
  "kernelspec": {
   "display_name": "Python 3",
   "language": "python",
   "name": "python3"
  },
  "language_info": {
   "codemirror_mode": {
    "name": "ipython",
    "version": 3
   },
   "file_extension": ".py",
   "mimetype": "text/x-python",
   "name": "python",
   "nbconvert_exporter": "python",
   "pygments_lexer": "ipython3",
   "version": "3.7.1"
  }
 },
 "nbformat": 4,
 "nbformat_minor": 2
}
